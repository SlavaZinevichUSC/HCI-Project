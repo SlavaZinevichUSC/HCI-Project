{
 "cells": [
  {
   "cell_type": "code",
   "execution_count": 2,
   "id": "5f9c5e34-0580-4c27-8d59-73f7b1b6e385",
   "metadata": {},
   "outputs": [],
   "source": [
    "import glob\n",
    "import os"
   ]
  },
  {
   "cell_type": "code",
   "execution_count": null,
   "id": "3dc68b83-02c5-4121-8d03-11fa47e12ed6",
   "metadata": {},
   "outputs": [],
   "source": [
    "for dir in ['Session' + i in range(1,6)]:\n",
    "    for file in os.listdir(f'/data/{dir}/IEMOCAP_full_release'):\n",
    "        "
   ]
  }
 ],
 "metadata": {
  "kernelspec": {
   "display_name": "Python 3 (ipykernel)",
   "language": "python",
   "name": "python3"
  },
  "language_info": {
   "codemirror_mode": {
    "name": "ipython",
    "version": 3
   },
   "file_extension": ".py",
   "mimetype": "text/x-python",
   "name": "python",
   "nbconvert_exporter": "python",
   "pygments_lexer": "ipython3",
   "version": "3.9.12"
  }
 },
 "nbformat": 4,
 "nbformat_minor": 5
}
