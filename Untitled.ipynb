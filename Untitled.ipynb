{
 "cells": [
  {
   "cell_type": "code",
   "execution_count": 1,
   "id": "5f9c5e34-0580-4c27-8d59-73f7b1b6e385",
   "metadata": {},
   "outputs": [
    {
     "ename": "TypeError",
     "evalue": "unsupported operand type(s) for |: 'torch._C._TensorMeta' and 'NoneType'",
     "output_type": "error",
     "traceback": [
      "\u001b[0;31m---------------------------------------------------------------------------\u001b[0m",
      "\u001b[0;31mTypeError\u001b[0m                                 Traceback (most recent call last)",
      "Input \u001b[0;32mIn [1]\u001b[0m, in \u001b[0;36m<cell line: 2>\u001b[0;34m()\u001b[0m\n\u001b[1;32m      1\u001b[0m \u001b[38;5;28;01mfrom\u001b[39;00m \u001b[38;5;21;01mcore\u001b[39;00m\u001b[38;5;21;01m.\u001b[39;00m\u001b[38;5;21;01mMetadata\u001b[39;00m \u001b[38;5;28;01mimport\u001b[39;00m Metadata\n\u001b[0;32m----> 2\u001b[0m \u001b[38;5;28;01mfrom\u001b[39;00m \u001b[38;5;21;01mmodel\u001b[39;00m\u001b[38;5;21;01m.\u001b[39;00m\u001b[38;5;21;01mtools\u001b[39;00m \u001b[38;5;28;01mimport\u001b[39;00m Storage\n\u001b[1;32m      3\u001b[0m \u001b[38;5;28;01mfrom\u001b[39;00m \u001b[38;5;21;01mmodel\u001b[39;00m\u001b[38;5;21;01m.\u001b[39;00m\u001b[38;5;21;01mEngine\u001b[39;00m \u001b[38;5;28;01mimport\u001b[39;00m Engine\n\u001b[1;32m      4\u001b[0m \u001b[38;5;28;01mfrom\u001b[39;00m \u001b[38;5;21;01mcore\u001b[39;00m\u001b[38;5;21;01m.\u001b[39;00m\u001b[38;5;21;01mConfig\u001b[39;00m \u001b[38;5;28;01mimport\u001b[39;00m config\n",
      "File \u001b[0;32m~/Documents/USC/Spring-2023/HCI/project/project.py/model/tools/Storage.py:3\u001b[0m, in \u001b[0;36m<module>\u001b[0;34m\u001b[0m\n\u001b[1;32m      1\u001b[0m \u001b[38;5;28;01mimport\u001b[39;00m \u001b[38;5;21;01mnumpy\u001b[39;00m \u001b[38;5;28;01mas\u001b[39;00m \u001b[38;5;21;01mnp\u001b[39;00m\n\u001b[1;32m      2\u001b[0m \u001b[38;5;28;01mfrom\u001b[39;00m \u001b[38;5;21;01mcore\u001b[39;00m\u001b[38;5;21;01m.\u001b[39;00m\u001b[38;5;21;01mMetadata\u001b[39;00m \u001b[38;5;28;01mimport\u001b[39;00m Metadata\n\u001b[0;32m----> 3\u001b[0m \u001b[38;5;28;01mfrom\u001b[39;00m \u001b[38;5;21;01mmodel\u001b[39;00m\u001b[38;5;21;01m.\u001b[39;00m\u001b[38;5;21;01mtools\u001b[39;00m\u001b[38;5;21;01m.\u001b[39;00m\u001b[38;5;21;01mPooling\u001b[39;00m \u001b[38;5;28;01mimport\u001b[39;00m Standardize\n\u001b[1;32m      4\u001b[0m \u001b[38;5;28;01mfrom\u001b[39;00m \u001b[38;5;21;01mmodel\u001b[39;00m\u001b[38;5;21;01m.\u001b[39;00m\u001b[38;5;21;01mtools\u001b[39;00m\u001b[38;5;21;01m.\u001b[39;00m\u001b[38;5;21;01mDatapoint\u001b[39;00m \u001b[38;5;28;01mimport\u001b[39;00m Datapoint\n\u001b[1;32m      7\u001b[0m \u001b[38;5;28;01mclass\u001b[39;00m \u001b[38;5;21;01mStorage\u001b[39;00m:\n",
      "File \u001b[0;32m~/Documents/USC/Spring-2023/HCI/project/project.py/model/tools/Pooling.py:5\u001b[0m, in \u001b[0;36m<module>\u001b[0;34m\u001b[0m\n\u001b[1;32m      3\u001b[0m \u001b[38;5;28;01mimport\u001b[39;00m \u001b[38;5;21;01mnumpy\u001b[39;00m \u001b[38;5;28;01mas\u001b[39;00m \u001b[38;5;21;01mnp\u001b[39;00m\n\u001b[1;32m      4\u001b[0m \u001b[38;5;28;01mfrom\u001b[39;00m \u001b[38;5;21;01mskimage\u001b[39;00m\u001b[38;5;21;01m.\u001b[39;00m\u001b[38;5;21;01mmeasure\u001b[39;00m \u001b[38;5;28;01mimport\u001b[39;00m block_reduce\n\u001b[0;32m----> 5\u001b[0m \u001b[38;5;28;01mfrom\u001b[39;00m \u001b[38;5;21;01mmodel\u001b[39;00m\u001b[38;5;21;01m.\u001b[39;00m\u001b[38;5;21;01mtools\u001b[39;00m\u001b[38;5;21;01m.\u001b[39;00m\u001b[38;5;21;01mDatapoint\u001b[39;00m \u001b[38;5;28;01mimport\u001b[39;00m Datapoint\n\u001b[1;32m      6\u001b[0m \u001b[38;5;28;01mimport\u001b[39;00m \u001b[38;5;21;01mtorch\u001b[39;00m\n\u001b[1;32m      9\u001b[0m \u001b[38;5;28;01mdef\u001b[39;00m \u001b[38;5;21mPool\u001b[39m(poolType, poolNum):  \u001b[38;5;66;03m# Fake Factory\u001b[39;00m\n",
      "File \u001b[0;32m~/Documents/USC/Spring-2023/HCI/project/project.py/model/tools/Datapoint.py:16\u001b[0m, in \u001b[0;36m<module>\u001b[0;34m\u001b[0m\n\u001b[1;32m      6\u001b[0m maleTensor \u001b[38;5;241m=\u001b[39m torch\u001b[38;5;241m.\u001b[39mFloatTensor([\u001b[38;5;241m0\u001b[39m, \u001b[38;5;241m1\u001b[39m])\n\u001b[1;32m      7\u001b[0m races \u001b[38;5;241m=\u001b[39m {\u001b[38;5;124m'\u001b[39m\u001b[38;5;124mbritish\u001b[39m\u001b[38;5;124m'\u001b[39m: torch\u001b[38;5;241m.\u001b[39mFloatTensor([\u001b[38;5;241m1\u001b[39m, \u001b[38;5;241m0\u001b[39m, \u001b[38;5;241m0\u001b[39m, \u001b[38;5;241m0\u001b[39m, \u001b[38;5;241m0\u001b[39m, \u001b[38;5;241m0\u001b[39m]),\n\u001b[1;32m      8\u001b[0m          \u001b[38;5;124m'\u001b[39m\u001b[38;5;124mchinese\u001b[39m\u001b[38;5;124m'\u001b[39m: torch\u001b[38;5;241m.\u001b[39mFloatTensor([\u001b[38;5;241m0\u001b[39m, \u001b[38;5;241m1\u001b[39m, \u001b[38;5;241m0\u001b[39m, \u001b[38;5;241m0\u001b[39m, \u001b[38;5;241m0\u001b[39m, \u001b[38;5;241m0\u001b[39m]),\n\u001b[1;32m      9\u001b[0m          \u001b[38;5;124m'\u001b[39m\u001b[38;5;124mgerman\u001b[39m\u001b[38;5;124m'\u001b[39m: torch\u001b[38;5;241m.\u001b[39mFloatTensor([\u001b[38;5;241m0\u001b[39m, \u001b[38;5;241m0\u001b[39m, \u001b[38;5;241m1\u001b[39m, \u001b[38;5;241m0\u001b[39m, \u001b[38;5;241m0\u001b[39m, \u001b[38;5;241m0\u001b[39m]),\n\u001b[1;32m     10\u001b[0m          \u001b[38;5;124m'\u001b[39m\u001b[38;5;124mgreek\u001b[39m\u001b[38;5;124m'\u001b[39m: torch\u001b[38;5;241m.\u001b[39mFloatTensor([\u001b[38;5;241m0\u001b[39m, \u001b[38;5;241m0\u001b[39m, \u001b[38;5;241m0\u001b[39m, \u001b[38;5;241m1\u001b[39m, \u001b[38;5;241m0\u001b[39m, \u001b[38;5;241m0\u001b[39m]),\n\u001b[1;32m     11\u001b[0m          \u001b[38;5;124m'\u001b[39m\u001b[38;5;124mhungarian\u001b[39m\u001b[38;5;124m'\u001b[39m: torch\u001b[38;5;241m.\u001b[39mFloatTensor([\u001b[38;5;241m0\u001b[39m, \u001b[38;5;241m0\u001b[39m, \u001b[38;5;241m0\u001b[39m, \u001b[38;5;241m0\u001b[39m, \u001b[38;5;241m1\u001b[39m, \u001b[38;5;241m0\u001b[39m]),\n\u001b[1;32m     12\u001b[0m          \u001b[38;5;124m'\u001b[39m\u001b[38;5;124mserbian\u001b[39m\u001b[38;5;124m'\u001b[39m: torch\u001b[38;5;241m.\u001b[39mFloatTensor([\u001b[38;5;241m0\u001b[39m, \u001b[38;5;241m0\u001b[39m, \u001b[38;5;241m0\u001b[39m, \u001b[38;5;241m0\u001b[39m, \u001b[38;5;241m0\u001b[39m, \u001b[38;5;241m1\u001b[39m])}\n\u001b[1;32m     15\u001b[0m \u001b[38;5;129m@dataclass\u001b[39m()\n\u001b[0;32m---> 16\u001b[0m \u001b[38;5;28;01mclass\u001b[39;00m \u001b[38;5;21;01mDatapoint\u001b[39;00m:\n\u001b[1;32m     17\u001b[0m     name: \u001b[38;5;28mstr\u001b[39m\n\u001b[1;32m     18\u001b[0m     speakers: \u001b[38;5;28mstr\u001b[39m\n",
      "File \u001b[0;32m~/Documents/USC/Spring-2023/HCI/project/project.py/model/tools/Datapoint.py:23\u001b[0m, in \u001b[0;36mDatapoint\u001b[0;34m()\u001b[0m\n\u001b[1;32m     21\u001b[0m lexical: torch\u001b[38;5;241m.\u001b[39mTensor\n\u001b[1;32m     22\u001b[0m labels: torch\u001b[38;5;241m.\u001b[39mTensor\n\u001b[0;32m---> 23\u001b[0m gender: \u001b[43mtorch\u001b[49m\u001b[38;5;241;43m.\u001b[39;49m\u001b[43mTensor\u001b[49m\u001b[43m \u001b[49m\u001b[38;5;241;43m|\u001b[39;49m\u001b[43m \u001b[49m\u001b[38;5;28;43;01mNone\u001b[39;49;00m \u001b[38;5;241m=\u001b[39m \u001b[38;5;28;01mNone\u001b[39;00m\n\u001b[1;32m     24\u001b[0m race: torch\u001b[38;5;241m.\u001b[39mTensor \u001b[38;5;241m|\u001b[39m \u001b[38;5;28;01mNone\u001b[39;00m \u001b[38;5;241m=\u001b[39m \u001b[38;5;28;01mNone\u001b[39;00m\n\u001b[1;32m     26\u001b[0m \u001b[38;5;66;03m# Hideous solution to avoid reloading and instead dynamically adujsting to modality\u001b[39;00m\n",
      "\u001b[0;31mTypeError\u001b[0m: unsupported operand type(s) for |: 'torch._C._TensorMeta' and 'NoneType'"
     ]
    }
   ],
   "source": [
    "from core.Metadata import Metadata\n",
    "from model.tools import Storage\n",
    "from model.Engine import Engine\n",
    "from core.Config import config\n",
    "\n",
    "adapters = []\n",
    "def RunBias():\n",
    "    meta = Metadata('./data/iemocap_embed')\n",
    "    storage = Storage.LazyStorage(meta)\n",
    "    engine = Engine(storage)\n",
    "    engine.Run()\n",
    "\n",
    "\n",
    "def RunBasic():\n",
    "    meta = Metadata('./data/iemocap_embed')\n",
    "    config.adapter = 'basic_multimodal'\n",
    "    storage = Storage.LazyStorage(meta)\n",
    "    engine = Engine(storage)\n",
    "    engine.Run()\n",
    "\n",
    "\n",
    "def RunTrial(delta, path = './data/iemocap_embed', filename = '/dataset.csv'):\n",
    "    meta = Metadata(path, filename)\n",
    "    storage = Storage.ActiveStorage(meta)\n",
    "    for d in delta:\n",
    "        print('----------------- delta ----------------')\n",
    "        print(d)\n",
    "        config.Replace(d)\n",
    "        engine = Engine(storage)\n",
    "        engine.Run()\n",
    "        engine.EvaluateModel()\n",
    "        adapters.append(engine.modelAdapter)\n",
    "\n",
    "\n",
    "delta = [{'adapter': 'basic_acoustic'},\n",
    "         {'adapter': 'embed_acoustic'},\n",
    "         {'adapter': 'acoustic_bias', 'bias_weight': 0.0},\n",
    "         {'adapter': 'acoustic_bias', 'bias_weight': 0.02},\n",
    "         {'adapter': 'acoustic_bias', 'bias_weight': 0.05},\n",
    "         {'adapter': 'acoustic_bias', 'bias_weight': 0.1}]\n",
    "# RunTrial(delta)\n",
    "delta = [{'adapter': 'basic_acoustic'},\n",
    "         {'adapter': 'embed_acoustic'},\n",
    "        {'adapter': 'basic_visual'},\n",
    "        {'adapter': 'embed_visual'},\n",
    "        {'adapter': 'acoustic_bias'},\n",
    "        {'adapter': 'visual_bias'}]\n",
    "RunTrial(delta, './data/sewa_audio', '/key.csv')\n",
    "#RunTrial(delta)\n"
   ]
  },
  {
   "cell_type": "code",
   "execution_count": null,
   "id": "3dc68b83-02c5-4121-8d03-11fa47e12ed6",
   "metadata": {},
   "outputs": [],
   "source": []
  }
 ],
 "metadata": {
  "kernelspec": {
   "display_name": "Python 3 (ipykernel)",
   "language": "python",
   "name": "python3"
  },
  "language_info": {
   "codemirror_mode": {
    "name": "ipython",
    "version": 3
   },
   "file_extension": ".py",
   "mimetype": "text/x-python",
   "name": "python",
   "nbconvert_exporter": "python",
   "pygments_lexer": "ipython3",
   "version": "3.9.12"
  }
 },
 "nbformat": 4,
 "nbformat_minor": 5
}
