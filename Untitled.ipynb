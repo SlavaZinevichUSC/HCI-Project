{
 "cells": [
  {
   "cell_type": "code",
   "execution_count": null,
   "id": "5f9c5e34-0580-4c27-8d59-73f7b1b6e385",
   "metadata": {},
   "outputs": [],
   "source": [
    "from core.Metadata import Metadata\n",
    "from model.tools import Storage\n",
    "from model.Engine import Engine\n",
    "from core.Config import config\n",
    "\n",
    "\n",
    "def RunBias():\n",
    "    meta = Metadata('./data/iemocap_embed')\n",
    "    storage = Storage.LazyStorage(meta)\n",
    "    engine = Engine(storage)\n",
    "    engine.Run()\n",
    "\n",
    "\n",
    "def RunBasic():\n",
    "    meta = Metadata('./data/iemocap_embed')\n",
    "    config.adapter = 'basic_multimodal'\n",
    "    storage = Storage.LazyStorage(meta)\n",
    "    engine = Engine(storage)\n",
    "    engine.Run()\n",
    "\n",
    "\n",
    "def RunTrial(delta, path = './data/iemocap_embed', filename = '/dataset.csv'):\n",
    "    meta = Metadata(path, filename)\n",
    "    storage = Storage.ActiveStorage(meta)\n",
    "    for d in delta:\n",
    "        print('----------------- delta ----------------')\n",
    "        print(d)\n",
    "        config.Replace(d)\n",
    "        engine = Engine(storage)\n",
    "        engine.Run()\n",
    "        engine.EvaluateModel()\n",
    "\n",
    "\n",
    "delta = [{'adapter': 'basic_acoustic'},\n",
    "         {'adapter': 'embed_acoustic'},\n",
    "         {'adapter': 'acoustic_bias', 'bias_weight': 0.0},\n",
    "         {'adapter': 'acoustic_bias', 'bias_weight': 0.02},\n",
    "         {'adapter': 'acoustic_bias', 'bias_weight': 0.05},\n",
    "         {'adapter': 'acoustic_bias', 'bias_weight': 0.1}]\n",
    "# RunTrial(delta)\n",
    "delta = [{'adapter': 'basic_acoustic'},\n",
    "         {'adapter': 'acoustic_bias'}]\n",
    "RunTrial(delta, './data/sewa_audio', '/key.csv')\n",
    "#RunTrial(delta)\n"
   ]
  },
  {
   "cell_type": "code",
   "execution_count": null,
   "id": "3dc68b83-02c5-4121-8d03-11fa47e12ed6",
   "metadata": {},
   "outputs": [],
   "source": []
  }
 ],
 "metadata": {
  "kernelspec": {
   "display_name": "Python 3 (ipykernel)",
   "language": "python",
   "name": "python3"
  },
  "language_info": {
   "codemirror_mode": {
    "name": "ipython",
    "version": 3
   },
   "file_extension": ".py",
   "mimetype": "text/x-python",
   "name": "python",
   "nbconvert_exporter": "python",
   "pygments_lexer": "ipython3",
   "version": "3.9.12"
  }
 },
 "nbformat": 4,
 "nbformat_minor": 5
}
